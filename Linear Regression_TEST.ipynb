{
 "cells": [
  {
   "cell_type": "code",
   "execution_count": 25,
   "id": "2db3f073",
   "metadata": {},
   "outputs": [
    {
     "data": {
      "image/png": "[encoded data removed]",
      "text/plain": [
       "<Figure size 1080x288 with 1 Axes>"
      ]
     },
     "metadata": {
      "needs_background": "light"
     },
     "output_type": "display_data"
    },
    {
     "name": "stdout",
     "output_type": "stream",
     "text": [
      "2.002716064453125e-05\n"
     ]
    }
   ],
   "source": [
    "import time\n",
    "import numpy as np\n",
    "import matplotlib.pyplot as plt\n",
    "import pandas as pd\n",
    "\n",
    "def CostFunction(X, y, a, b):\n",
    "    #X = np.round(X, 6)\n",
    "    #y = np.round(y, 6)\n",
    "    return sum((X * a + b - y) ** 2) / 2 / len(y)\n",
    "\n",
    "def Grad_a(X, y, a, b):\n",
    "    #X = np.round(X, 6)\n",
    "    #y = np.round(y, 6)\n",
    "    return sum((a * X + b - y) * X) / len(y)\n",
    "    \n",
    "def Grad_b(X, y, a, b):\n",
    "    #X = np.round(X, 6)\n",
    "    # y = np.round(y, 6)\n",
    "    return sum(a * X + b) / len(y)\n",
    "\n",
    "def Train(X, y, Iteration, LearningRate):\n",
    "    a, b = 0, 0\n",
    "    Trace=[]\n",
    "    for _ in range(Iteration):\n",
    "        Trace.append(CostFunction(X, y, a, b))\n",
    "        g_a = Grad_a(X, y, a, b)\n",
    "        g_b = Grad_b(X, y, a, b)\n",
    "        a -= LearningRate * g_a\n",
    "        b -= LearningRate * g_b\n",
    "    return [a, b, Trace]\n",
    "\n",
    "df = pd.read_csv(\"regression.csv\")\n",
    "        \n",
    "X = np.array(df['X'])\n",
    "y = np.array(df['Y'])\n",
    "\n",
    "plt.figure(figsize = (15, 4))\n",
    "a, b, Trace = Train(X, y, 1000, 0.000001)\n",
    "plt.scatter(X, y, color = \"red\")\n",
    "\n",
    "# 결과값\n",
    "plt.plot([min(X), max(X)], np.array([min(X), max(X)]) * a + b, color = \"black\")\n",
    "plt.show()\n",
    "\n",
    "start = time.time()\n",
    "print(time.time() - start)"
   ]
  },
  {
   "cell_type": "code",
   "execution_count": 36,
   "id": "80015061",
   "metadata": {},
   "outputs": [
    {
     "name": "stdout",
     "output_type": "stream",
     "text": [
      "8\n"
     ]
    }
   ],
   "source": [
    "print(len(\"0.000001\"))"
   ]
  },
  {
   "cell_type": "code",
   "execution_count": null,
   "id": "6791912f",
   "metadata": {},
   "outputs": [],
   "source": []
  }
 ],
 "metadata": {
  "kernelspec": {
   "display_name": "Python 3 (ipykernel)",
   "language": "python",
   "name": "python3"
  },
  "language_info": {
   "codemirror_mode": {
    "name": "ipython",
    "version": 3
   },
   "file_extension": ".py",
   "mimetype": "text/x-python",
   "name": "python",
   "nbconvert_exporter": "python",
   "pygments_lexer": "ipython3",
   "version": "3.9.10"
  }
 },
 "nbformat": 4,
 "nbformat_minor": 5
}
